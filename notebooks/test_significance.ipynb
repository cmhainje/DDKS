{
 "cells": [
  {
   "cell_type": "code",
   "execution_count": 1,
   "id": "secondary-desire",
   "metadata": {},
   "outputs": [],
   "source": [
    "import ddks\n",
    "import torch\n",
    "import numpy as np\n",
    "import matplotlib.pyplot as plt\n",
    "from scipy.special import binom\n",
    "from scipy.stats import beta\n",
    "import time\n",
    "plt.show()\n",
    "plt.style.use('ah')"
   ]
  },
  {
   "cell_type": "code",
   "execution_count": 2,
   "id": "possible-farmer",
   "metadata": {},
   "outputs": [
    {
     "data": {
      "image/png": "[encoded data removed]",
      "text/plain": [
       "<Figure size 216x118.944 with 1 Axes>"
      ]
     },
     "metadata": {
      "needs_background": "light"
     },
     "output_type": "display_data"
    }
   ],
   "source": [
    "plt.plot([0, 1], [0, 1], label='y=x')\n",
    "plt.xlabel('something')\n",
    "plt.savefig('something.pdf')\n",
    "plt.show()"
   ]
  },
  {
   "cell_type": "code",
   "execution_count": 3,
   "id": "known-allergy",
   "metadata": {},
   "outputs": [
    {
     "name": "stdout",
     "output_type": "stream",
     "text": [
      "[[1 0]\n",
      " [1 3]] [1 1] [0 3]\n",
      "[0. 3.] [1. 1.]\n"
     ]
    }
   ],
   "source": [
    "m_1 = 3\n",
    "m_2 = 2\n",
    "r_1 = np.arange(0.0, m_1 + 0.5) / m_1\n",
    "r_2 = np.arange(0.0, m_2 + 0.5) / m_2\n",
    "X, Y = np.meshgrid(r_1, r_2)\n",
    "x = np.abs(X - Y)\n",
    "idx = np.argwhere(x == 0.5)\n",
    "print(idx, idx[:, 0], idx[:, 1])\n",
    "n_1s = m_1 * r_1[idx[:, 1]]\n",
    "n_2s = m_2 * r_2[idx[:, 0]]\n",
    "print(n_1s, n_2s)"
   ]
  },
  {
   "cell_type": "code",
   "execution_count": 4,
   "id": "comparable-found",
   "metadata": {},
   "outputs": [
    {
     "name": "stdout",
     "output_type": "stream",
     "text": [
      "1.02e-04\n",
      "1.73e-03\n"
     ]
    }
   ],
   "source": [
    "n = np.ones((1000,))\n",
    "k = np.ones((1000,))\n",
    "start = time.time()\n",
    "binom(n, k)\n",
    "end = time.time()\n",
    "print(f'{end - start:.2e}')\n",
    "start = time.time()\n",
    "for _ in range(1000):\n",
    "    binom(1, 1)\n",
    "end = time.time()\n",
    "print(f'{end - start:.2e}')\n",
    "\n",
    "# Ten times faster than loop logic!"
   ]
  },
  {
   "cell_type": "code",
   "execution_count": 5,
   "id": "regional-interface",
   "metadata": {},
   "outputs": [],
   "source": [
    "_ddks = ddks.methods.ddKS()"
   ]
  },
  {
   "cell_type": "code",
   "execution_count": 6,
   "id": "quick-channels",
   "metadata": {},
   "outputs": [],
   "source": [
    "# the probability of getting a binomial difference of 0.1 between a sample size two and three should be zero\n",
    "assert _ddks.p_delta(0.1, 2, 3, 0.5) == 0.0"
   ]
  },
  {
   "cell_type": "code",
   "execution_count": 7,
   "id": "breathing-jacob",
   "metadata": {},
   "outputs": [
    {
     "name": "stdout",
     "output_type": "stream",
     "text": [
      "(array([0., 3.]), array([0., 2.]))\n",
      "1.0\n"
     ]
    }
   ],
   "source": [
    "# the probability of getting a binomial difference of zero should be one if the binomial probability is\n",
    "# 1.0, should always get \n",
    "print(_ddks.get_n1_n2(0.0, 3, 2))\n",
    "print(_ddks.p_delta(0.0, 3, 2, 1.0))"
   ]
  },
  {
   "cell_type": "code",
   "execution_count": 8,
   "id": "ethical-associate",
   "metadata": {},
   "outputs": [],
   "source": [
    "# the probability of getting something more extreme than -0.1 should be 1.0\n",
    "assert _ddks.p_gtdelta(-0.1, 100, 100, 0.5) == 1.0"
   ]
  },
  {
   "cell_type": "code",
   "execution_count": 9,
   "id": "fancy-organizer",
   "metadata": {},
   "outputs": [
    {
     "name": "stdout",
     "output_type": "stream",
     "text": [
      "0.0\n"
     ]
    }
   ],
   "source": [
    "# the probability of getting something more extreme than 1.0 should be 0.0\n",
    "print(_ddks.p_gtdelta(1.0, 5, 5, 0.5))"
   ]
  },
  {
   "cell_type": "code",
   "execution_count": 10,
   "id": "grateful-addition",
   "metadata": {},
   "outputs": [
    {
     "data": {
      "image/png": "[encoded data removed]",
      "text/plain": [
       "<Figure size 216x118.944 with 1 Axes>"
      ]
     },
     "metadata": {
      "needs_background": "light"
     },
     "output_type": "display_data"
    }
   ],
   "source": [
    "p = 0.5\n",
    "m = 100.0\n",
    "ns = np.linspace(-100, 100)\n",
    "pbs = []\n",
    "for n in ns:\n",
    "    pbs.append(_ddks.p_bi(n, m, p))\n",
    "\n",
    "plt.plot(ns, pbs)\n",
    "plt.show()"
   ]
  },
  {
   "cell_type": "markdown",
   "id": "frozen-jefferson",
   "metadata": {},
   "source": [
    "# Null Hypothesis"
   ]
  },
  {
   "cell_type": "code",
   "execution_count": 11,
   "id": "suitable-briefs",
   "metadata": {},
   "outputs": [
    {
     "name": "stderr",
     "output_type": "stream",
     "text": [
      "100%|██████████| 13/13 [02:29<00:00, 11.48s/it]\n"
     ]
    }
   ],
   "source": [
    "import tqdm\n",
    "import bootstrapped.bootstrap as bs\n",
    "import bootstrapped.stats_functions as bs_stats\n",
    "ns = [2, 3, 4, 5, 6, 7, 8, 9, 10, 20, 50, 70, 100]\n",
    "ls = []\n",
    "us = []\n",
    "lps = []\n",
    "ups = []\n",
    "ps = []\n",
    "u_ps = []\n",
    "pps = []\n",
    "u_pps = []\n",
    "for n in tqdm.tqdm(ns):\n",
    "    _ps = []\n",
    "    _pps = []\n",
    "    for j in range(10):\n",
    "        pred = torch.normal(mean=0.0, std=1.0, size=(n, 3))\n",
    "        true = torch.normal(mean=0.0, std=1.0, size=(n, 3))\n",
    "        _ps.append(_ddks.p(pred, true))\n",
    "        _pps.append(_ddks.permute(pred, true, J=100)[0])\n",
    "    \n",
    "    r = bs.bootstrap(np.array(_ps), stat_func=bs_stats.mean)\n",
    "    ps.append(r.value)\n",
    "    ls.append(r.lower_bound)\n",
    "    us.append(r.upper_bound)\n",
    "    r = bs.bootstrap(np.array(_pps), stat_func=bs_stats.mean)\n",
    "    pps.append(r.value)\n",
    "    lps.append(r.lower_bound)\n",
    "    ups.append(r.upper_bound)"
   ]
  },
  {
   "cell_type": "code",
   "execution_count": 12,
   "id": "dress-church",
   "metadata": {},
   "outputs": [
    {
     "data": {
      "image/png": "[encoded data removed]",
      "text/plain": [
       "<Figure size 288x177.998 with 1 Axes>"
      ]
     },
     "metadata": {
      "needs_background": "light"
     },
     "output_type": "display_data"
    },
    {
     "name": "stdout",
     "output_type": "stream",
     "text": [
      "[0.3176769018173218, 0.23845635114997243, 0.35066748538043646, 0.21282632633240617, 0.5157667810703834, 0.38383321210109506, 0.36306872097487425, 0.3554884643776338, 0.3832441659138321, 0.554558173103305, 0.8530579154354602, 0.7229143606848858, 0.5584744657155589]\n"
     ]
    }
   ],
   "source": [
    "plt.figure(figsize=(4, 4/1.618))\n",
    "yerr = np.stack((ls, us))\n",
    "yerr[0, :] = np.array(ps) - yerr[0, :]\n",
    "yerr[1, :] = yerr[1, :] - np.array(ps)\n",
    "plt.errorbar(ns, ps, yerr=yerr, label='analytical')\n",
    "yerr = np.stack((lps, ups))\n",
    "yerr[0, :] = np.array(pps) - yerr[0, :]\n",
    "yerr[1, :] = yerr[1, :] - np.array(pps)\n",
    "plt.errorbar(ns, pps, yerr=yerr, label='permute')\n",
    "plt.plot([np.min(ns), np.max(ns)], [0.05, 0.05], color='black', linestyle='--', label=r'$\\alpha=0.05$')\n",
    "plt.semilogx()\n",
    "plt.legend()\n",
    "plt.xlabel('Sample Size ($N$)')\n",
    "plt.ylabel('Significance ($p$)')\n",
    "#plt.title('Under $H_{0}$')\n",
    "plt.ylim(0.0, 1.0)\n",
    "plt.tight_layout()\n",
    "plt.savefig('h0_analytical_significance.pdf')\n",
    "plt.show()\n",
    "print(ps)"
   ]
  },
  {
   "cell_type": "markdown",
   "id": "final-oxygen",
   "metadata": {},
   "source": [
    "# Alternative Hypothesis"
   ]
  },
  {
   "cell_type": "code",
   "execution_count": 13,
   "id": "roman-blair",
   "metadata": {},
   "outputs": [
    {
     "name": "stderr",
     "output_type": "stream",
     "text": [
      "100%|██████████| 13/13 [05:33<00:00, 25.67s/it]\n"
     ]
    }
   ],
   "source": [
    "ns = [2, 3, 4, 5, 6, 7, 8, 9, 10, 20, 50, 70, 100]\n",
    "ls = []\n",
    "us = []\n",
    "lps = []\n",
    "ups = []\n",
    "ps = []\n",
    "u_ps = []\n",
    "pps = []\n",
    "u_pps = []\n",
    "for n in tqdm.tqdm(ns):\n",
    "    _ps = []\n",
    "    _pps = []\n",
    "    for j in range(10):\n",
    "        pred = torch.normal(mean=1.0, std=1.0, size=(n, 3))\n",
    "        true = torch.normal(mean=0.0, std=1.0, size=(n, 3))\n",
    "        _ps.append(_ddks.p(pred, true))\n",
    "        _pps.append(_ddks.permute(pred, true, J=100)[0])\n",
    "    \n",
    "    r = bs.bootstrap(np.array(_ps), stat_func=bs_stats.mean)\n",
    "    ps.append(r.value)\n",
    "    ls.append(r.lower_bound)\n",
    "    us.append(r.upper_bound)\n",
    "    r = bs.bootstrap(np.array(_pps), stat_func=bs_stats.mean)\n",
    "    pps.append(r.value)\n",
    "    lps.append(r.lower_bound)\n",
    "    ups.append(r.upper_bound)"
   ]
  },
  {
   "cell_type": "code",
   "execution_count": 14,
   "id": "stylish-proceeding",
   "metadata": {},
   "outputs": [
    {
     "data": {
      "image/png": "[encoded data removed]",
      "text/plain": [
       "<Figure size 288x177.998 with 1 Axes>"
      ]
     },
     "metadata": {
      "needs_background": "light"
     },
     "output_type": "display_data"
    },
    {
     "name": "stdout",
     "output_type": "stream",
     "text": [
      "[0.2277805209159851, 0.17604187784426198, 0.18677133479070449, 0.13828820044253218, 0.20254662613329452, 0.18382189118948977, 0.06826704602135489, 0.029214137464202806, 0.04186929029152895, 0.0027990800091176604, 3.2122908605769496e-05, 1.3788500186073804e-07, 2.0871004924316593e-11]\n"
     ]
    }
   ],
   "source": [
    "plt.figure(figsize=(4, 4/1.618))\n",
    "yerr = np.stack((ls, us))\n",
    "yerr[0, :] = np.array(ps) - yerr[0, :]\n",
    "yerr[1, :] = yerr[1, :] - np.array(ps)\n",
    "plt.errorbar(ns, ps, yerr=yerr, label='analytical')\n",
    "yerr = np.stack((lps, ups))\n",
    "yerr[0, :] = np.array(pps) - yerr[0, :]\n",
    "yerr[1, :] = yerr[1, :] - np.array(pps)\n",
    "plt.errorbar(ns, pps, yerr=yerr, label='permute')\n",
    "plt.plot([np.min(ns), np.max(ns)], [0.05, 0.05], color='black', linestyle='--', label=r'$\\alpha=0.05$')\n",
    "plt.semilogx()\n",
    "plt.legend()\n",
    "plt.xlabel('Sample Size ($N$)')\n",
    "plt.ylabel('Significance ($p$)')\n",
    "#plt.title('Under $H_{a}$')\n",
    "plt.ylim(0.0, 1.0)\n",
    "plt.tight_layout()\n",
    "plt.savefig('ha_analytical_significance.pdf')\n",
    "plt.show()\n",
    "print(ps)"
   ]
  },
  {
   "cell_type": "code",
   "execution_count": 15,
   "id": "invisible-supplement",
   "metadata": {},
   "outputs": [
    {
     "name": "stderr",
     "output_type": "stream",
     "text": [
      "100%|██████████| 1000/1000 [23:21<00:00,  1.40s/it]\n"
     ]
    },
    {
     "data": {
      "image/png": "[encoded data removed]",
      "text/plain": [
       "<Figure size 216x118.944 with 1 Axes>"
      ]
     },
     "metadata": {
      "needs_background": "light"
     },
     "output_type": "display_data"
    }
   ],
   "source": [
    "n = 50\n",
    "_ps = []\n",
    "for j in tqdm.tqdm(np.arange(1000)):\n",
    "    pred = torch.normal(mean=0.0, std=1.0, size=(n, 3))\n",
    "    true = torch.normal(mean=0.0, std=1.0, size=(n, 3))\n",
    "    _ps.append(_ddks.p(pred, true))\n",
    "plt.hist(_ps)\n",
    "plt.show()"
   ]
  },
  {
   "cell_type": "code",
   "execution_count": 16,
   "id": "steady-master",
   "metadata": {},
   "outputs": [
    {
     "name": "stdout",
     "output_type": "stream",
     "text": [
      "0.042    (0.029000000000000005, 0.054000000000000006)\n"
     ]
    }
   ],
   "source": [
    "print(bs.bootstrap((np.array(_ps) <= 0.05), stat_func=bs_stats.mean))"
   ]
  },
  {
   "cell_type": "code",
   "execution_count": 17,
   "id": "listed-belgium",
   "metadata": {},
   "outputs": [
    {
     "name": "stderr",
     "output_type": "stream",
     "text": [
      "100%|██████████| 1000/1000 [52:48<00:00,  3.17s/it]\n"
     ]
    },
    {
     "data": {
      "image/png": "[encoded data removed]",
      "text/plain": [
       "<Figure size 216x118.944 with 1 Axes>"
      ]
     },
     "metadata": {
      "needs_background": "light"
     },
     "output_type": "display_data"
    }
   ],
   "source": [
    "n = 50\n",
    "_ps = []\n",
    "for j in tqdm.tqdm(np.arange(1000)):\n",
    "    pred = torch.normal(mean=1.0, std=1.0, size=(n, 3))\n",
    "    true = torch.normal(mean=0.0, std=1.0, size=(n, 3))\n",
    "    _ps.append(_ddks.p(pred, true))\n",
    "plt.hist(_ps)\n",
    "plt.show()"
   ]
  },
  {
   "cell_type": "code",
   "execution_count": 18,
   "id": "enormous-interference",
   "metadata": {},
   "outputs": [
    {
     "name": "stdout",
     "output_type": "stream",
     "text": [
      "0.0    (0.0, 0.0)\n"
     ]
    }
   ],
   "source": [
    "print(bs.bootstrap((np.array(_ps) >= 0.05), stat_func=bs_stats.mean))"
   ]
  },
  {
   "cell_type": "code",
   "execution_count": null,
   "id": "addressed-access",
   "metadata": {},
   "outputs": [],
   "source": []
  }
 ],
 "metadata": {
  "kernelspec": {
   "display_name": "ddks",
   "language": "python",
   "name": "ddks"
  },
  "language_info": {
   "codemirror_mode": {
    "name": "ipython",
    "version": 3
   },
   "file_extension": ".py",
   "mimetype": "text/x-python",
   "name": "python",
   "nbconvert_exporter": "python",
   "pygments_lexer": "ipython3",
   "version": "3.8.8"
  }
 },
 "nbformat": 4,
 "nbformat_minor": 5
}
