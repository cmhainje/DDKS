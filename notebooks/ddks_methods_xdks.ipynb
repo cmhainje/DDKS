{
 "cells": [
  {
   "cell_type": "code",
   "execution_count": 1,
   "id": "contained-candidate",
   "metadata": {},
   "outputs": [],
   "source": [
    "from ddks.data import *\n",
    "from ddks.data.openimages_dataset import LS\n",
    "from ddks import methods\n",
    "import numpy as np\n",
    "from scipy.stats import gaussian_kde\n",
    "import matplotlib.pyplot as plt\n",
    "import tqdm\n",
    "import pickle\n",
    "import os\n",
    "\n",
    "import matplotlib as mpl\n",
    "plt.style.use('ah')\n",
    "plt.show()\n",
    "mpl.rcParams['axes.prop_cycle'] = mpl.cycler('color', ['348ABD','E24A33', '988ED5', '777777', 'FBC15E', '8EBA42', 'FFB5B8'])\n"
   ]
  },
  {
   "cell_type": "code",
   "execution_count": 2,
   "id": "78e99c80",
   "metadata": {},
   "outputs": [],
   "source": [
    "from matplotlib.patches import Circle, RegularPolygon\n",
    "from matplotlib.path import Path\n",
    "from matplotlib.projections.polar import PolarAxes\n",
    "from matplotlib.projections import register_projection\n",
    "from matplotlib.spines import Spine\n",
    "from matplotlib.transforms import Affine2D\n",
    "\n",
    "\n",
    "def radar_factory(num_vars, frame='circle'):\n",
    "    \"\"\"\n",
    "    Create a radar chart with `num_vars` axes.\n",
    "\n",
    "    This function creates a RadarAxes projection and registers it.\n",
    "\n",
    "    Parameters\n",
    "    ----------\n",
    "    num_vars : int\n",
    "        Number of variables for radar chart.\n",
    "    frame : {'circle', 'polygon'}\n",
    "        Shape of frame surrounding axes.\n",
    "\n",
    "    \"\"\"\n",
    "    # calculate evenly-spaced axis angles\n",
    "    theta = np.linspace(0, 2*np.pi, num_vars, endpoint=False)\n",
    "\n",
    "    class RadarAxes(PolarAxes):\n",
    "\n",
    "        name = 'radar'\n",
    "        # use 1 line segment to connect specified points\n",
    "        RESOLUTION = 1\n",
    "\n",
    "        def __init__(self, *args, **kwargs):\n",
    "            super().__init__(*args, **kwargs)\n",
    "            # rotate plot such that the first axis is at the top\n",
    "            self.set_theta_zero_location('N')\n",
    "\n",
    "        def fill(self, *args, closed=True, **kwargs):\n",
    "            \"\"\"Override fill so that line is closed by default\"\"\"\n",
    "            return super().fill(closed=closed, *args, **kwargs)\n",
    "\n",
    "        def plot(self, *args, **kwargs):\n",
    "            \"\"\"Override plot so that line is closed by default\"\"\"\n",
    "            lines = super().plot(*args, **kwargs)\n",
    "            for line in lines:\n",
    "                self._close_line(line)\n",
    "\n",
    "        def _close_line(self, line):\n",
    "            x, y = line.get_data()\n",
    "            # FIXME: markers at x[0], y[0] get doubled-up\n",
    "            if x[0] != x[-1]:\n",
    "                x = np.append(x, x[0])\n",
    "                y = np.append(y, y[0])\n",
    "                line.set_data(x, y)\n",
    "\n",
    "        def set_varlabels(self, labels):\n",
    "            self.set_thetagrids(np.degrees(theta), labels)\n",
    "\n",
    "        def _gen_axes_patch(self):\n",
    "            # The Axes patch must be centered at (0.5, 0.5) and of radius 0.5\n",
    "            # in axes coordinates.\n",
    "            if frame == 'circle':\n",
    "                return Circle((0.5, 0.5), 0.5)\n",
    "            elif frame == 'polygon':\n",
    "                return RegularPolygon((0.5, 0.5), num_vars,\n",
    "                                      radius=.5, edgecolor=\"k\")\n",
    "            else:\n",
    "                raise ValueError(\"Unknown value for 'frame': %s\" % frame)\n",
    "\n",
    "        def _gen_axes_spines(self):\n",
    "            if frame == 'circle':\n",
    "                return super()._gen_axes_spines()\n",
    "            elif frame == 'polygon':\n",
    "                # spine_type must be 'left'/'right'/'top'/'bottom'/'circle'.\n",
    "                spine = Spine(axes=self,\n",
    "                              spine_type='circle',\n",
    "                              path=Path.unit_regular_polygon(num_vars))\n",
    "                # unit_regular_polygon gives a polygon of radius 1 centered at\n",
    "                # (0, 0) but we want a polygon of radius 0.5 centered at (0.5,\n",
    "                # 0.5) in axes coordinates.\n",
    "                spine.set_transform(Affine2D().scale(.5).translate(.5, .5)\n",
    "                                    + self.transAxes)\n",
    "                return {'polar': spine}\n",
    "            else:\n",
    "                raise ValueError(\"Unknown value for 'frame': %s\" % frame)\n",
    "\n",
    "    register_projection(RadarAxes)\n",
    "    return theta\n"
   ]
  },
  {
   "cell_type": "code",
   "execution_count": 3,
   "id": "8321af60",
   "metadata": {},
   "outputs": [],
   "source": [
    "methods_list = [methods.ddks_method,  methods.vdks_method, methods.rdks_method]\n",
    "datasets = [GVM, GVS, DVU, Skew, MM]\n",
    "\n",
    "def within(x, y, eps=1.0E-3):\n",
    "    return np.abs(x - y) < eps\n",
    "\n",
    "def return_mean_significance(_method, Dataset, dimension, sample_size, permutations=100):\n",
    "    _dataset = Dataset(dimension=dimension, sample_size=sample_size)\n",
    "    p, t = next(_dataset)\n",
    "    return _method(p, t, permutations)\n",
    "\n",
    "def bisection(_method, Dataset, dimension, permutations=100, trials=10, max_sample_size=500):\n",
    "    mids = []\n",
    "    for i in tqdm.tqdm(np.arange(trials)):\n",
    "        low = 2\n",
    "        high = 100\n",
    "        mid = int((low + high) / 2)\n",
    "        low_sig = return_mean_significance(_method, Dataset, dimension, low, permutations)\n",
    "        high_sig = return_mean_significance(_method, Dataset, dimension, high, permutations)\n",
    "        mid_sig = return_mean_significance(_method, Dataset, dimension, mid, permutations)\n",
    "        significance = 1.0\n",
    "        while not within(mid_sig, 0.05):\n",
    "            if (high - low) <= 2:\n",
    "                if (np.abs(high_sig - 0.05) < np.abs(mid_sig - 0.05)) \\\n",
    "                        and (np.abs(high_sig - 0.05) < np.abs(low_sig - 0.05)):\n",
    "                    mid = high\n",
    "                    mid_sig = high_sig\n",
    "                elif (np.abs(low_sig - 0.05) < np.abs(mid_sig - 0.05)) \\\n",
    "                        and (np.abs(low_sig - 0.05) < np.abs(mid_sig - 0.05)):\n",
    "                    mid = low\n",
    "                    mid_sig = low_sig\n",
    "                break\n",
    "            if low_sig > 0.05 and mid_sig < 0.05:\n",
    "                new_mid = int((low + mid) / 2)\n",
    "                high = mid\n",
    "                high_sig = mid_sig\n",
    "                mid = new_mid\n",
    "                mid_sig = return_mean_significance(_method, Dataset, dimension, mid, permutations)\n",
    "            elif mid_sig > 0.05 and high_sig < 0.05:\n",
    "                new_mid = int((mid + high) / 2)\n",
    "                low = mid\n",
    "                low_sig = mid_sig\n",
    "                mid = new_mid\n",
    "                mid_sig = return_mean_significance(_method, Dataset, dimension, mid, permutations)\n",
    "            else:\n",
    "                if high < max_sample_size:\n",
    "                    high = high + 50\n",
    "                    mid = int((low + high) / 2)\n",
    "                    low_sig = return_mean_significance(_method, Dataset, dimension, low, permutations)\n",
    "                    high_sig = return_mean_significance(_method, Dataset, dimension, high, permutations)\n",
    "                    mid_sig = return_mean_significance(_method, Dataset, dimension, mid, permutations)\n",
    "                else:\n",
    "                    mid = np.nan\n",
    "                    break\n",
    "        mids.append(mid)\n",
    "    \n",
    "\n",
    "    return np.nanmean(mids), np.nanstd(mids), np.sum(np.isfinite(mids))\n",
    "        "
   ]
  },
  {
   "cell_type": "code",
   "execution_count": 4,
   "id": "funky-savings",
   "metadata": {},
   "outputs": [
    {
     "name": "stderr",
     "output_type": "stream",
     "text": [
      "100%|██████████| 10/10 [00:12<00:00,  1.22s/it]\n",
      "  0%|          | 0/10 [00:00<?, ?it/s]"
     ]
    },
    {
     "name": "stdout",
     "output_type": "stream",
     "text": [
      "<class 'ddks.data.GVM'> ddKS (11.9, 3.806573262134856, 10)\n"
     ]
    },
    {
     "name": "stderr",
     "output_type": "stream",
     "text": [
      "100%|██████████| 10/10 [00:44<00:00,  4.50s/it]\n",
      "  0%|          | 0/10 [00:00<?, ?it/s]"
     ]
    },
    {
     "name": "stdout",
     "output_type": "stream",
     "text": [
      "<class 'ddks.data.GVM'> vdKS (9.5, 2.29128784747792, 10)\n"
     ]
    },
    {
     "name": "stderr",
     "output_type": "stream",
     "text": [
      "100%|██████████| 10/10 [02:53<00:00, 17.35s/it]\n",
      "  0%|          | 0/10 [00:00<?, ?it/s]"
     ]
    },
    {
     "name": "stdout",
     "output_type": "stream",
     "text": [
      "<class 'ddks.data.GVM'> rdKS (11.4, 2.939387691339814, 10)\n"
     ]
    },
    {
     "name": "stderr",
     "output_type": "stream",
     "text": [
      "100%|██████████| 10/10 [00:12<00:00,  1.28s/it]\n",
      "  0%|          | 0/10 [00:00<?, ?it/s]"
     ]
    },
    {
     "name": "stdout",
     "output_type": "stream",
     "text": [
      "<class 'ddks.data.GVS'> ddKS (24.2, 4.833218389437829, 10)\n"
     ]
    },
    {
     "name": "stderr",
     "output_type": "stream",
     "text": [
      "100%|██████████| 10/10 [00:52<00:00,  5.26s/it]\n",
      "  0%|          | 0/10 [00:00<?, ?it/s]"
     ]
    },
    {
     "name": "stdout",
     "output_type": "stream",
     "text": [
      "<class 'ddks.data.GVS'> vdKS (29.3, 6.885491994040804, 10)\n"
     ]
    },
    {
     "name": "stderr",
     "output_type": "stream",
     "text": [
      "100%|██████████| 10/10 [04:14<00:00, 25.48s/it]\n",
      "  0%|          | 0/10 [00:00<?, ?it/s]"
     ]
    },
    {
     "name": "stdout",
     "output_type": "stream",
     "text": [
      "<class 'ddks.data.GVS'> rdKS (34.3, 9.920181449953423, 10)\n"
     ]
    },
    {
     "name": "stderr",
     "output_type": "stream",
     "text": [
      "100%|██████████| 10/10 [00:11<00:00,  1.16s/it]\n",
      "  0%|          | 0/10 [00:00<?, ?it/s]"
     ]
    },
    {
     "name": "stdout",
     "output_type": "stream",
     "text": [
      "<class 'ddks.data.DVU'> ddKS (17.5, 7.379024325749306, 10)\n"
     ]
    },
    {
     "name": "stderr",
     "output_type": "stream",
     "text": [
      "100%|██████████| 10/10 [00:42<00:00,  4.21s/it]\n",
      "  0%|          | 0/10 [00:00<?, ?it/s]"
     ]
    },
    {
     "name": "stdout",
     "output_type": "stream",
     "text": [
      "<class 'ddks.data.DVU'> vdKS (15.6, 3.006659275674582, 10)\n"
     ]
    },
    {
     "name": "stderr",
     "output_type": "stream",
     "text": [
      "100%|██████████| 10/10 [03:46<00:00, 22.62s/it]\n",
      "  0%|          | 0/10 [00:00<?, ?it/s]"
     ]
    },
    {
     "name": "stdout",
     "output_type": "stream",
     "text": [
      "<class 'ddks.data.DVU'> rdKS (30.5, 3.721558813185679, 10)\n"
     ]
    },
    {
     "name": "stderr",
     "output_type": "stream",
     "text": [
      "100%|██████████| 10/10 [00:12<00:00,  1.22s/it]\n",
      "  0%|          | 0/10 [00:00<?, ?it/s]"
     ]
    },
    {
     "name": "stdout",
     "output_type": "stream",
     "text": [
      "<class 'ddks.data.Skew'> ddKS (23.1, 8.41961994391671, 10)\n"
     ]
    },
    {
     "name": "stderr",
     "output_type": "stream",
     "text": [
      "100%|██████████| 10/10 [00:40<00:00,  4.01s/it]\n",
      "  0%|          | 0/10 [00:00<?, ?it/s]"
     ]
    },
    {
     "name": "stdout",
     "output_type": "stream",
     "text": [
      "<class 'ddks.data.Skew'> vdKS (22.2, 8.634813257969162, 10)\n"
     ]
    },
    {
     "name": "stderr",
     "output_type": "stream",
     "text": [
      "100%|██████████| 10/10 [02:58<00:00, 17.84s/it]\n",
      "  0%|          | 0/10 [00:00<?, ?it/s]"
     ]
    },
    {
     "name": "stdout",
     "output_type": "stream",
     "text": [
      "<class 'ddks.data.Skew'> rdKS (17.7, 5.367494760127856, 10)\n"
     ]
    },
    {
     "name": "stderr",
     "output_type": "stream",
     "text": [
      "100%|██████████| 10/10 [00:13<00:00,  1.39s/it]\n",
      "  0%|          | 0/10 [00:00<?, ?it/s]"
     ]
    },
    {
     "name": "stdout",
     "output_type": "stream",
     "text": [
      "<class 'ddks.data.MM'> ddKS (43.3, 23.84135063288152, 10)\n"
     ]
    },
    {
     "name": "stderr",
     "output_type": "stream",
     "text": [
      "100%|██████████| 10/10 [01:20<00:00,  8.03s/it]\n",
      "  0%|          | 0/10 [00:00<?, ?it/s]"
     ]
    },
    {
     "name": "stdout",
     "output_type": "stream",
     "text": [
      "<class 'ddks.data.MM'> vdKS (41.2, 9.589577675789482, 10)\n"
     ]
    },
    {
     "name": "stderr",
     "output_type": "stream",
     "text": [
      "100%|██████████| 10/10 [04:21<00:00, 26.12s/it]"
     ]
    },
    {
     "name": "stdout",
     "output_type": "stream",
     "text": [
      "<class 'ddks.data.MM'> rdKS (37.0, 11.072488428533127, 10)\n"
     ]
    },
    {
     "name": "stderr",
     "output_type": "stream",
     "text": [
      "\n"
     ]
    }
   ],
   "source": [
    "\n",
    "if os.path.exists('ddks_sample_sizes_xdks.pkl'):\n",
    "    data = pickle.load(open('ddks_sample_sizes_xdks.pkl', 'rb'))\n",
    "else:\n",
    "    data = {}\n",
    "for dataset in datasets:\n",
    "    data[str(dataset)] = dict()\n",
    "    for metric in methods_list:\n",
    "        #if 'rdKS' not in metric.name:\n",
    "        #    continue\n",
    "        if metric.name in list(data[str(dataset)].keys()):\n",
    "            continue\n",
    "        data[str(dataset)][metric.name] = bisection(metric, dataset, dimension=3)\n",
    "        print(str(dataset), metric.name, data[str(dataset)][metric.name])\n",
    "    pickle.dump(data, open('ddks_sample_sizes_xdks.pkl', 'wb'))\n"
   ]
  },
  {
   "cell_type": "code",
   "execution_count": 5,
   "id": "98d2d4a7",
   "metadata": {},
   "outputs": [
    {
     "data": {
      "image/png": "[encoded data removed]",
      "text/plain": [
       "<Figure size 288x288 with 1 Axes>"
      ]
     },
     "metadata": {
      "needs_background": "light"
     },
     "output_type": "display_data"
    },
    {
     "data": {
      "image/png": "[encoded data removed]",
      "text/plain": [
       "<Figure size 576x288 with 1 Axes>"
      ]
     },
     "metadata": {
      "needs_background": "light"
     },
     "output_type": "display_data"
    }
   ],
   "source": [
    "\n",
    "fig = plt.figure(figsize=(4, 4))\n",
    "markers = ['o', 'x', 'v', '^']\n",
    "#gvm\n",
    "for metric, marker in zip(data[list(data.keys())[0]].keys(), markers):\n",
    "    means = [data[_dataset][metric][0] for _dataset in data.keys()]\n",
    "    stds = [data[_dataset][metric][1] for _dataset in data.keys()]\n",
    "    plt.errorbar(np.arange(len(means)), means, yerr=stds, linestyle='none', marker=marker, label=metric, alpha=0.5)\n",
    "plt.xticks(np.arange(len(datasets)), ['GVM', 'GVS', 'DVU', 'Skew', 'MM', 'LS'], rotation=45)\n",
    "plt.ylabel('Number of samples' + \"\\n\" + r'for $\\alpha=0.05$')\n",
    "plt.legend()\n",
    "plt.show()\n",
    "\n",
    "fig = plt.figure(figsize=(8, 4))\n",
    "markers = ['o', 'x', 'v', '^']\n",
    "#gvm\n",
    "for i, (metric, marker) in enumerate(zip(data[list(data.keys())[0]].keys(), markers)):\n",
    "    means = [data[_dataset][metric][0] for _dataset in data.keys()]\n",
    "    stds = [data[_dataset][metric][1] for _dataset in data.keys()]\n",
    "    plt.bar(np.arange(len(means)) + (i/5.0 - 0.5), means, label=metric, width=0.20, alpha=0.5)\n",
    "    plt.errorbar(np.arange(len(means)) + (i/5.0 - 0.5), means, yerr=stds, linestyle='none', marker=marker)\n",
    "plt.xticks(np.arange(len(datasets)) - 0.20, ['GVM', 'GVS', 'DVU', 'Skew', 'MM', 'LS'], rotation=45)\n",
    "plt.ylabel('Number of samples' + \"\\n\" + r'for $\\alpha=0.05$')\n",
    "plt.legend()\n",
    "plt.savefig('n_samples_bar_xdks.pdf')\n",
    "plt.show()\n"
   ]
  },
  {
   "cell_type": "code",
   "execution_count": 6,
   "id": "e842a4dd",
   "metadata": {},
   "outputs": [
    {
     "data": {
      "image/png": "[encoded data removed]",
      "text/plain": [
       "<Figure size 576x576 with 3 Axes>"
      ]
     },
     "metadata": {
      "needs_background": "light"
     },
     "output_type": "display_data"
    }
   ],
   "source": [
    "fig = plt.figure(figsize=(8, 8))\n",
    "markers = ['o', 'x', 'v', '^']\n",
    "#gvm\n",
    "colors = ['#D77600', '#616265', '#A63F1E', '#F4AA00', '#007836', '#00338E', '#870150']\n",
    "for i, (metric, marker, color) in enumerate(zip(data[list(data.keys())[0]].keys(), markers, colors)):\n",
    "    plt.subplot(221+i)\n",
    "    means = [data[_dataset][metric][0] for _dataset in data.keys()]\n",
    "    stds = [data[_dataset][metric][1] for _dataset in data.keys()]\n",
    "    plt.errorbar(np.arange(len(means)), means, yerr=stds, linestyle='none', color=color, marker=marker, label=metric, alpha=0.5)\n",
    "    plt.xticks(np.arange(len(datasets)), ['GVM', 'GVS', 'DVU', 'Skew', 'MM', 'LS'], rotation=45)\n",
    "    plt.ylabel('Number of samples' + \"\\n\" + r'for $\\alpha=0.05$')\n",
    "    plt.ylim(0, 250)\n",
    "    plt.legend()\n",
    "plt.show()"
   ]
  },
  {
   "cell_type": "code",
   "execution_count": 8,
   "id": "854b6acf",
   "metadata": {},
   "outputs": [
    {
     "name": "stdout",
     "output_type": "stream",
     "text": [
      "ddKS\n",
      "vdKS\n",
      "rdKS\n"
     ]
    },
    {
     "data": {
      "image/png": "[encoded data removed]",
      "text/plain": [
       "<Figure size 288x288 with 1 Axes>"
      ]
     },
     "metadata": {
      "needs_background": "light"
     },
     "output_type": "display_data"
    }
   ],
   "source": [
    "#markers = ['/', '\\\\', '|', '.']\n",
    "theta = radar_factory(5, frame='circle')\n",
    "fig, axs = plt.subplots(figsize=(4, 4), nrows=1, ncols=1,\n",
    "                        subplot_kw=dict(projection='radar'))\n",
    "rns = np.geomspace(1, 50, 10).astype(int)\n",
    "rgrids = np.log10(rns)\n",
    "plt.gca().set_rgrids(rgrids, labels=rns)\n",
    "colors = ['#348ABD','#E24A33', '#988ED5', '#777777', '#FBC15E', '#8EBA42', '#FFB5B8']\n",
    "for metric, marker, color in zip(data[list(data.keys())[0]].keys(), markers, colors):\n",
    "    means = np.log10([data[_dataset][metric][0] for _dataset in data.keys()])\n",
    "    stds = np.log10([data[_dataset][metric][1] for _dataset in data.keys()])\n",
    "    if 'ddKS' in metric:\n",
    "        linestyle = '-'\n",
    "    else:\n",
    "        linestyle = '--'\n",
    "    line = plt.plot(theta, means, label=metric, color=color, linestyle=linestyle, marker=marker)\n",
    "    print(metric)\n",
    "    if 'ddKS' in metric:\n",
    "        plt.fill(theta, means, alpha=0.25, facecolor=color)\n",
    "plt.gca().set_xlabel('Number of Samples' + \"\\n\" + r'to reject $H_{0}$' + \"\\n\" + r'for $\\alpha=0.05$')\n",
    "plt.gca().set_rlabel_position(-90.0 - 20.0)\n",
    "plt.gca().set_theta_offset(-6.0)\n",
    "plt.gca().set_varlabels(['GVM', 'GVS', 'DVU', 'Skew', 'MM', 'LS'])\n",
    "plt.grid(color='#AAAAAA', linewidth=1.0)\n",
    "plt.legend(loc=(0.9, .95))\n",
    "plt.savefig('n_samples_radar_xdks.pdf')\n",
    "plt.show()"
   ]
  },
  {
   "cell_type": "code",
   "execution_count": null,
   "id": "600ff499",
   "metadata": {},
   "outputs": [],
   "source": []
  }
 ],
 "metadata": {
  "kernelspec": {
   "display_name": "ddks",
   "language": "python",
   "name": "ddks"
  },
  "language_info": {
   "codemirror_mode": {
    "name": "ipython",
    "version": 3
   },
   "file_extension": ".py",
   "mimetype": "text/x-python",
   "name": "python",
   "nbconvert_exporter": "python",
   "pygments_lexer": "ipython3",
   "version": "3.8.8"
  }
 },
 "nbformat": 4,
 "nbformat_minor": 5
}
